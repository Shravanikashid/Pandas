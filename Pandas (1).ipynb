{
 "cells": [
  {
   "cell_type": "markdown",
   "id": "1afbd9e7-2537-4fce-a006-96e5bfcefb4f",
   "metadata": {},
   "source": [
    "#  Pandas : Python Library"
   ]
  },
  {
   "cell_type": "markdown",
   "id": "4770cd34-1d4c-4e30-9155-f6f3ac0f4ff9",
   "metadata": {},
   "source": [
    "## What is pandas ?"
   ]
  },
  {
   "cell_type": "markdown",
   "id": "b608729b-46e2-4ae6-976e-ef79ba4d6f6f",
   "metadata": {},
   "source": [
    "##### Pandas is a Python library used for data analysis and manipulation. It provides data structures like DataFrames (tables) and Series (one-dimensional arrays) that allow efficient storage and processing of structured data.\n",
    "##### Pandas offers tools for tasks such as data cleaning, transformation, merging, and aggregation, making it a fundamental library for data scientists and analysts working with Python. "
   ]
  },
  {
   "cell_type": "markdown",
   "id": "54b889dc-9a53-4df5-970e-c7ce0d470c44",
   "metadata": {},
   "source": [
    "## Importing Pandas"
   ]
  },
  {
   "cell_type": "code",
   "execution_count": 1,
   "id": "79d6c654-542d-4460-9bbb-a2ba5895c34f",
   "metadata": {},
   "outputs": [],
   "source": [
    "import pandas as pd"
   ]
  },
  {
   "cell_type": "markdown",
   "id": "5e95feb2-ab55-47cd-a9ad-52625a52512f",
   "metadata": {},
   "source": [
    "### Loading Files "
   ]
  },
  {
   "cell_type": "code",
   "execution_count": 2,
   "id": "55dae512-c86a-4201-b7c2-e43848409c61",
   "metadata": {},
   "outputs": [],
   "source": [
    "df = pd.read_csv(\"C:\\\\Users\\\\Administrator\\\\Downloads\\\\pandas_practice1_dataset.csv\")"
   ]
  },
  {
   "cell_type": "markdown",
   "id": "293dacdb-e2ff-4b84-b865-3df823921f09",
   "metadata": {},
   "source": [
    "## Functions "
   ]
  },
  {
   "cell_type": "markdown",
   "id": "206b4003-8ca6-4c78-86bf-992f842e1146",
   "metadata": {},
   "source": [
    "#### 1. head() : display first five rows."
   ]
  },
  {
   "cell_type": "code",
   "execution_count": 3,
   "id": "26d6a201-ad97-426f-bdeb-1e927358e5af",
   "metadata": {},
   "outputs": [
    {
     "data": {
      "text/html": [
       "<div>\n",
       "<style scoped>\n",
       "    .dataframe tbody tr th:only-of-type {\n",
       "        vertical-align: middle;\n",
       "    }\n",
       "\n",
       "    .dataframe tbody tr th {\n",
       "        vertical-align: top;\n",
       "    }\n",
       "\n",
       "    .dataframe thead th {\n",
       "        text-align: right;\n",
       "    }\n",
       "</style>\n",
       "<table border=\"1\" class=\"dataframe\">\n",
       "  <thead>\n",
       "    <tr style=\"text-align: right;\">\n",
       "      <th></th>\n",
       "      <th>Product_ID</th>\n",
       "      <th>Product_Name</th>\n",
       "      <th>Brand</th>\n",
       "      <th>Category</th>\n",
       "      <th>Price</th>\n",
       "      <th>Stock_Units</th>\n",
       "      <th>Country_Of_Origin</th>\n",
       "      <th>Launch_Date</th>\n",
       "    </tr>\n",
       "  </thead>\n",
       "  <tbody>\n",
       "    <tr>\n",
       "      <th>0</th>\n",
       "      <td>1001</td>\n",
       "      <td>Router</td>\n",
       "      <td>Logitech</td>\n",
       "      <td>Accessories</td>\n",
       "      <td>574.15</td>\n",
       "      <td>188.0</td>\n",
       "      <td>Germany</td>\n",
       "      <td>2020-06-22</td>\n",
       "    </tr>\n",
       "    <tr>\n",
       "      <th>1</th>\n",
       "      <td>1002</td>\n",
       "      <td>Laptop</td>\n",
       "      <td>HP</td>\n",
       "      <td>Accessories</td>\n",
       "      <td>1644.89</td>\n",
       "      <td>203.0</td>\n",
       "      <td>UK</td>\n",
       "      <td>2023-10-15</td>\n",
       "    </tr>\n",
       "    <tr>\n",
       "      <th>2</th>\n",
       "      <td>1003</td>\n",
       "      <td>Mouse</td>\n",
       "      <td>Logitech</td>\n",
       "      <td>Peripherals</td>\n",
       "      <td>642.71</td>\n",
       "      <td>325.0</td>\n",
       "      <td>India</td>\n",
       "      <td>2019-02-22</td>\n",
       "    </tr>\n",
       "    <tr>\n",
       "      <th>3</th>\n",
       "      <td>1004</td>\n",
       "      <td>Keyboard</td>\n",
       "      <td>Samsung</td>\n",
       "      <td>Peripherals</td>\n",
       "      <td>888.96</td>\n",
       "      <td>439.0</td>\n",
       "      <td>USA</td>\n",
       "      <td>2020-12-22</td>\n",
       "    </tr>\n",
       "    <tr>\n",
       "      <th>4</th>\n",
       "      <td>1005</td>\n",
       "      <td>Keyboard</td>\n",
       "      <td>Canon</td>\n",
       "      <td>Electronics</td>\n",
       "      <td>1500.41</td>\n",
       "      <td>51.0</td>\n",
       "      <td>Japan</td>\n",
       "      <td>2019-11-27</td>\n",
       "    </tr>\n",
       "  </tbody>\n",
       "</table>\n",
       "</div>"
      ],
      "text/plain": [
       "   Product_ID Product_Name     Brand     Category    Price  Stock_Units  \\\n",
       "0        1001       Router  Logitech  Accessories   574.15        188.0   \n",
       "1        1002       Laptop        HP  Accessories  1644.89        203.0   \n",
       "2        1003        Mouse  Logitech  Peripherals   642.71        325.0   \n",
       "3        1004     Keyboard   Samsung  Peripherals   888.96        439.0   \n",
       "4        1005     Keyboard     Canon  Electronics  1500.41         51.0   \n",
       "\n",
       "  Country_Of_Origin Launch_Date  \n",
       "0           Germany  2020-06-22  \n",
       "1                UK  2023-10-15  \n",
       "2             India  2019-02-22  \n",
       "3               USA  2020-12-22  \n",
       "4             Japan  2019-11-27  "
      ]
     },
     "execution_count": 3,
     "metadata": {},
     "output_type": "execute_result"
    }
   ],
   "source": [
    "df.head()"
   ]
  },
  {
   "cell_type": "markdown",
   "id": "30335b53-e92f-43ba-9ee6-5f2ef2ee55b7",
   "metadata": {},
   "source": [
    "#### 2. shape : give total number of rows and columns."
   ]
  },
  {
   "cell_type": "code",
   "execution_count": 4,
   "id": "5e12a6e5-f5f9-495a-941d-05c8244513fd",
   "metadata": {},
   "outputs": [
    {
     "data": {
      "text/plain": [
       "(515, 8)"
      ]
     },
     "execution_count": 4,
     "metadata": {},
     "output_type": "execute_result"
    }
   ],
   "source": [
    "df.shape"
   ]
  },
  {
   "cell_type": "markdown",
   "id": "0503f1b9-8208-4842-8d2d-9c914a1fa7a1",
   "metadata": {},
   "source": [
    "#### 3. tail() : display last five rows."
   ]
  },
  {
   "cell_type": "code",
   "execution_count": 5,
   "id": "e6ebfc21-2878-494c-a602-bc9cf9932136",
   "metadata": {
    "scrolled": true
   },
   "outputs": [
    {
     "data": {
      "text/html": [
       "<div>\n",
       "<style scoped>\n",
       "    .dataframe tbody tr th:only-of-type {\n",
       "        vertical-align: middle;\n",
       "    }\n",
       "\n",
       "    .dataframe tbody tr th {\n",
       "        vertical-align: top;\n",
       "    }\n",
       "\n",
       "    .dataframe thead th {\n",
       "        text-align: right;\n",
       "    }\n",
       "</style>\n",
       "<table border=\"1\" class=\"dataframe\">\n",
       "  <thead>\n",
       "    <tr style=\"text-align: right;\">\n",
       "      <th></th>\n",
       "      <th>Product_ID</th>\n",
       "      <th>Product_Name</th>\n",
       "      <th>Brand</th>\n",
       "      <th>Category</th>\n",
       "      <th>Price</th>\n",
       "      <th>Stock_Units</th>\n",
       "      <th>Country_Of_Origin</th>\n",
       "      <th>Launch_Date</th>\n",
       "    </tr>\n",
       "  </thead>\n",
       "  <tbody>\n",
       "    <tr>\n",
       "      <th>510</th>\n",
       "      <td>1433</td>\n",
       "      <td>Monitor</td>\n",
       "      <td>HP</td>\n",
       "      <td>Peripherals</td>\n",
       "      <td>318.13</td>\n",
       "      <td>48.0</td>\n",
       "      <td>India</td>\n",
       "      <td>2018-12-19</td>\n",
       "    </tr>\n",
       "    <tr>\n",
       "      <th>511</th>\n",
       "      <td>1069</td>\n",
       "      <td>Printer</td>\n",
       "      <td>Lenovo</td>\n",
       "      <td>Peripherals</td>\n",
       "      <td>823.61</td>\n",
       "      <td>234.0</td>\n",
       "      <td>China</td>\n",
       "      <td>2023-04-10</td>\n",
       "    </tr>\n",
       "    <tr>\n",
       "      <th>512</th>\n",
       "      <td>1072</td>\n",
       "      <td>Smartphone</td>\n",
       "      <td>Asus</td>\n",
       "      <td>Electronics</td>\n",
       "      <td>1854.61</td>\n",
       "      <td>363.0</td>\n",
       "      <td>India</td>\n",
       "      <td>2023-05-06</td>\n",
       "    </tr>\n",
       "    <tr>\n",
       "      <th>513</th>\n",
       "      <td>1351</td>\n",
       "      <td>Keyboard</td>\n",
       "      <td>Apple</td>\n",
       "      <td>Accessories</td>\n",
       "      <td>801.33</td>\n",
       "      <td>340.0</td>\n",
       "      <td>India</td>\n",
       "      <td>2021-09-28</td>\n",
       "    </tr>\n",
       "    <tr>\n",
       "      <th>514</th>\n",
       "      <td>1123</td>\n",
       "      <td>Headphones</td>\n",
       "      <td>Lenovo</td>\n",
       "      <td>Accessories</td>\n",
       "      <td>1162.56</td>\n",
       "      <td>283.0</td>\n",
       "      <td>Japan</td>\n",
       "      <td>2023-06-26</td>\n",
       "    </tr>\n",
       "  </tbody>\n",
       "</table>\n",
       "</div>"
      ],
      "text/plain": [
       "     Product_ID Product_Name   Brand     Category    Price  Stock_Units  \\\n",
       "510        1433      Monitor      HP  Peripherals   318.13         48.0   \n",
       "511        1069      Printer  Lenovo  Peripherals   823.61        234.0   \n",
       "512        1072   Smartphone    Asus  Electronics  1854.61        363.0   \n",
       "513        1351     Keyboard   Apple  Accessories   801.33        340.0   \n",
       "514        1123   Headphones  Lenovo  Accessories  1162.56        283.0   \n",
       "\n",
       "    Country_Of_Origin Launch_Date  \n",
       "510             India  2018-12-19  \n",
       "511             China  2023-04-10  \n",
       "512             India  2023-05-06  \n",
       "513             India  2021-09-28  \n",
       "514             Japan  2023-06-26  "
      ]
     },
     "execution_count": 5,
     "metadata": {},
     "output_type": "execute_result"
    }
   ],
   "source": [
    "df.tail()"
   ]
  },
  {
   "cell_type": "markdown",
   "id": "1653f24e-0360-45b4-930a-34330d2aba4e",
   "metadata": {},
   "source": [
    "#### 4. info() : Summarize the dataframe."
   ]
  },
  {
   "cell_type": "code",
   "execution_count": 6,
   "id": "074b05aa-d835-46b9-ba41-7bd38ed2dfbe",
   "metadata": {},
   "outputs": [
    {
     "name": "stdout",
     "output_type": "stream",
     "text": [
      "<class 'pandas.core.frame.DataFrame'>\n",
      "RangeIndex: 515 entries, 0 to 514\n",
      "Data columns (total 8 columns):\n",
      " #   Column             Non-Null Count  Dtype  \n",
      "---  ------             --------------  -----  \n",
      " 0   Product_ID         515 non-null    int64  \n",
      " 1   Product_Name       515 non-null    object \n",
      " 2   Brand              495 non-null    object \n",
      " 3   Category           515 non-null    object \n",
      " 4   Price              495 non-null    float64\n",
      " 5   Stock_Units        494 non-null    float64\n",
      " 6   Country_Of_Origin  515 non-null    object \n",
      " 7   Launch_Date        515 non-null    object \n",
      "dtypes: float64(2), int64(1), object(5)\n",
      "memory usage: 32.3+ KB\n"
     ]
    }
   ],
   "source": [
    "df.info()"
   ]
  },
  {
   "cell_type": "markdown",
   "id": "ea67f3a3-b5d5-4dee-b876-bb62623cb38a",
   "metadata": {},
   "source": [
    "#### 5. describe() : Statistically summarize the dataframe(max,min,mean,count)\n",
    "#### by default provide the statistical summary for numeric column."
   ]
  },
  {
   "cell_type": "code",
   "execution_count": 7,
   "id": "7e7356d5-ea52-4ccd-ad22-57fedab3e673",
   "metadata": {
    "scrolled": true
   },
   "outputs": [
    {
     "data": {
      "text/html": [
       "<div>\n",
       "<style scoped>\n",
       "    .dataframe tbody tr th:only-of-type {\n",
       "        vertical-align: middle;\n",
       "    }\n",
       "\n",
       "    .dataframe tbody tr th {\n",
       "        vertical-align: top;\n",
       "    }\n",
       "\n",
       "    .dataframe thead th {\n",
       "        text-align: right;\n",
       "    }\n",
       "</style>\n",
       "<table border=\"1\" class=\"dataframe\">\n",
       "  <thead>\n",
       "    <tr style=\"text-align: right;\">\n",
       "      <th></th>\n",
       "      <th>Product_ID</th>\n",
       "      <th>Product_Name</th>\n",
       "      <th>Brand</th>\n",
       "      <th>Category</th>\n",
       "      <th>Price</th>\n",
       "      <th>Stock_Units</th>\n",
       "      <th>Country_Of_Origin</th>\n",
       "      <th>Launch_Date</th>\n",
       "    </tr>\n",
       "  </thead>\n",
       "  <tbody>\n",
       "    <tr>\n",
       "      <th>count</th>\n",
       "      <td>515.000000</td>\n",
       "      <td>515</td>\n",
       "      <td>495</td>\n",
       "      <td>515</td>\n",
       "      <td>495.000000</td>\n",
       "      <td>494.000000</td>\n",
       "      <td>515</td>\n",
       "      <td>515</td>\n",
       "    </tr>\n",
       "    <tr>\n",
       "      <th>unique</th>\n",
       "      <td>NaN</td>\n",
       "      <td>10</td>\n",
       "      <td>8</td>\n",
       "      <td>3</td>\n",
       "      <td>NaN</td>\n",
       "      <td>NaN</td>\n",
       "      <td>6</td>\n",
       "      <td>440</td>\n",
       "    </tr>\n",
       "    <tr>\n",
       "      <th>top</th>\n",
       "      <td>NaN</td>\n",
       "      <td>Laptop</td>\n",
       "      <td>Apple</td>\n",
       "      <td>Peripherals</td>\n",
       "      <td>NaN</td>\n",
       "      <td>NaN</td>\n",
       "      <td>India</td>\n",
       "      <td>2023-04-10</td>\n",
       "    </tr>\n",
       "    <tr>\n",
       "      <th>freq</th>\n",
       "      <td>NaN</td>\n",
       "      <td>63</td>\n",
       "      <td>67</td>\n",
       "      <td>182</td>\n",
       "      <td>NaN</td>\n",
       "      <td>NaN</td>\n",
       "      <td>94</td>\n",
       "      <td>4</td>\n",
       "    </tr>\n",
       "    <tr>\n",
       "      <th>mean</th>\n",
       "      <td>1249.976699</td>\n",
       "      <td>NaN</td>\n",
       "      <td>NaN</td>\n",
       "      <td>NaN</td>\n",
       "      <td>1027.038485</td>\n",
       "      <td>256.018219</td>\n",
       "      <td>NaN</td>\n",
       "      <td>NaN</td>\n",
       "    </tr>\n",
       "    <tr>\n",
       "      <th>std</th>\n",
       "      <td>144.491687</td>\n",
       "      <td>NaN</td>\n",
       "      <td>NaN</td>\n",
       "      <td>NaN</td>\n",
       "      <td>574.943081</td>\n",
       "      <td>144.328485</td>\n",
       "      <td>NaN</td>\n",
       "      <td>NaN</td>\n",
       "    </tr>\n",
       "    <tr>\n",
       "      <th>min</th>\n",
       "      <td>1001.000000</td>\n",
       "      <td>NaN</td>\n",
       "      <td>NaN</td>\n",
       "      <td>NaN</td>\n",
       "      <td>52.680000</td>\n",
       "      <td>0.000000</td>\n",
       "      <td>NaN</td>\n",
       "      <td>NaN</td>\n",
       "    </tr>\n",
       "    <tr>\n",
       "      <th>25%</th>\n",
       "      <td>1123.500000</td>\n",
       "      <td>NaN</td>\n",
       "      <td>NaN</td>\n",
       "      <td>NaN</td>\n",
       "      <td>526.785000</td>\n",
       "      <td>128.750000</td>\n",
       "      <td>NaN</td>\n",
       "      <td>NaN</td>\n",
       "    </tr>\n",
       "    <tr>\n",
       "      <th>50%</th>\n",
       "      <td>1251.000000</td>\n",
       "      <td>NaN</td>\n",
       "      <td>NaN</td>\n",
       "      <td>NaN</td>\n",
       "      <td>1026.990000</td>\n",
       "      <td>258.000000</td>\n",
       "      <td>NaN</td>\n",
       "      <td>NaN</td>\n",
       "    </tr>\n",
       "    <tr>\n",
       "      <th>75%</th>\n",
       "      <td>1375.500000</td>\n",
       "      <td>NaN</td>\n",
       "      <td>NaN</td>\n",
       "      <td>NaN</td>\n",
       "      <td>1563.940000</td>\n",
       "      <td>379.750000</td>\n",
       "      <td>NaN</td>\n",
       "      <td>NaN</td>\n",
       "    </tr>\n",
       "    <tr>\n",
       "      <th>max</th>\n",
       "      <td>1500.000000</td>\n",
       "      <td>NaN</td>\n",
       "      <td>NaN</td>\n",
       "      <td>NaN</td>\n",
       "      <td>1994.630000</td>\n",
       "      <td>497.000000</td>\n",
       "      <td>NaN</td>\n",
       "      <td>NaN</td>\n",
       "    </tr>\n",
       "  </tbody>\n",
       "</table>\n",
       "</div>"
      ],
      "text/plain": [
       "         Product_ID Product_Name  Brand     Category        Price  \\\n",
       "count    515.000000          515    495          515   495.000000   \n",
       "unique          NaN           10      8            3          NaN   \n",
       "top             NaN       Laptop  Apple  Peripherals          NaN   \n",
       "freq            NaN           63     67          182          NaN   \n",
       "mean    1249.976699          NaN    NaN          NaN  1027.038485   \n",
       "std      144.491687          NaN    NaN          NaN   574.943081   \n",
       "min     1001.000000          NaN    NaN          NaN    52.680000   \n",
       "25%     1123.500000          NaN    NaN          NaN   526.785000   \n",
       "50%     1251.000000          NaN    NaN          NaN  1026.990000   \n",
       "75%     1375.500000          NaN    NaN          NaN  1563.940000   \n",
       "max     1500.000000          NaN    NaN          NaN  1994.630000   \n",
       "\n",
       "        Stock_Units Country_Of_Origin Launch_Date  \n",
       "count    494.000000               515         515  \n",
       "unique          NaN                 6         440  \n",
       "top             NaN             India  2023-04-10  \n",
       "freq            NaN                94           4  \n",
       "mean     256.018219               NaN         NaN  \n",
       "std      144.328485               NaN         NaN  \n",
       "min        0.000000               NaN         NaN  \n",
       "25%      128.750000               NaN         NaN  \n",
       "50%      258.000000               NaN         NaN  \n",
       "75%      379.750000               NaN         NaN  \n",
       "max      497.000000               NaN         NaN  "
      ]
     },
     "execution_count": 7,
     "metadata": {},
     "output_type": "execute_result"
    }
   ],
   "source": [
    "df.describe(include=\"all\")"
   ]
  },
  {
   "cell_type": "markdown",
   "id": "d1cbe79d-aa31-42a0-9663-3cc492f0391e",
   "metadata": {},
   "source": [
    "##### 1.Total 8 Features and 515 Rows in this dataset.\n",
    "##### 2.Product_Name have 10 unique values(laptop,mouse,keyboard,etc)\n",
    "##### 3.Brand have 8 unique brands and 20 missing values.\n",
    "##### 4.Category column have 3 categories.(Accessories,peripherals and electronics)\n",
    "##### 5.Price column have 20 missing values.\n",
    "##### 6.Stock_units have 21 missing values.\n",
    "##### 7.Country have 6 different countries(India, USA,etc).\n",
    "##### 8.Launch_Date have 440 dates.\n",
    "##### 9.In Product laptop is most common product. It comes 63 times.\n",
    "##### 10.Apple is the most common brand. (67 times)\n",
    "##### 11.India launch more products than other countries(94 products).\n",
    "##### 12.Average price is 1027.\n",
    "##### 13.Standard deviation is less than mean. means the data values are closer to mean.\n",
    "##### 14.25% of the products cost less than 526 rupees.\n",
    "##### 15.50%(median) of products cost 1026 rupees.\n",
    "##### 16.75% of products cost less than 1563 rupees.\n",
    "##### 17.maximum price is 1994."
   ]
  },
  {
   "cell_type": "markdown",
   "id": "d83d6f19-e3d0-4123-91ea-43c6c4dd2487",
   "metadata": {},
   "source": [
    "#### 6. columns : Returns the column name."
   ]
  },
  {
   "cell_type": "code",
   "execution_count": 8,
   "id": "1930aa73-0d33-49d1-807b-c4b00eaabe6f",
   "metadata": {},
   "outputs": [
    {
     "data": {
      "text/plain": [
       "Index(['Product_ID', 'Product_Name', 'Brand', 'Category', 'Price',\n",
       "       'Stock_Units', 'Country_Of_Origin', 'Launch_Date'],\n",
       "      dtype='object')"
      ]
     },
     "execution_count": 8,
     "metadata": {},
     "output_type": "execute_result"
    }
   ],
   "source": [
    "df.columns"
   ]
  },
  {
   "cell_type": "markdown",
   "id": "cca4dc29-c5f8-4e13-b1b4-f2715c3ac804",
   "metadata": {},
   "source": [
    "#### 7. unique(): Returns the unique values in column."
   ]
  },
  {
   "cell_type": "code",
   "execution_count": 9,
   "id": "76495f72-5bfe-4325-8aa7-a5f18e5facc6",
   "metadata": {},
   "outputs": [
    {
     "data": {
      "text/plain": [
       "array(['Logitech', 'HP', 'Samsung', 'Canon', 'Apple', 'Asus', 'Lenovo',\n",
       "       'Dell', nan], dtype=object)"
      ]
     },
     "execution_count": 9,
     "metadata": {},
     "output_type": "execute_result"
    }
   ],
   "source": [
    "df['Brand'].unique()"
   ]
  },
  {
   "cell_type": "markdown",
   "id": "a5d3a3e0-fec7-4ff9-943c-652cded766b3",
   "metadata": {},
   "source": [
    "#### 8. isnull() : checks for missing values and return the output in boolean(0,1).\n",
    "#### Use it with sum(), to get the total number of missing values."
   ]
  },
  {
   "cell_type": "code",
   "execution_count": 10,
   "id": "ae9ed983-2db1-4ec4-b248-767332df5a04",
   "metadata": {},
   "outputs": [
    {
     "data": {
      "text/plain": [
       "Product_ID            0\n",
       "Product_Name          0\n",
       "Brand                20\n",
       "Category              0\n",
       "Price                20\n",
       "Stock_Units          21\n",
       "Country_Of_Origin     0\n",
       "Launch_Date           0\n",
       "dtype: int64"
      ]
     },
     "execution_count": 10,
     "metadata": {},
     "output_type": "execute_result"
    }
   ],
   "source": [
    "df.isnull().sum()"
   ]
  },
  {
   "cell_type": "markdown",
   "id": "2ba1f62e-744f-47ec-b57c-de419db33b11",
   "metadata": {},
   "source": [
    "#### 9. fillna() : used to fill misssing values."
   ]
  },
  {
   "cell_type": "code",
   "execution_count": 11,
   "id": "8d7ca7b6-fe72-47b0-9c25-1f03cea300fe",
   "metadata": {},
   "outputs": [
    {
     "name": "stderr",
     "output_type": "stream",
     "text": [
      "C:\\Users\\Administrator\\AppData\\Local\\Temp\\ipykernel_2732\\3715058198.py:1: FutureWarning: A value is trying to be set on a copy of a DataFrame or Series through chained assignment using an inplace method.\n",
      "The behavior will change in pandas 3.0. This inplace method will never work because the intermediate object on which we are setting values always behaves as a copy.\n",
      "\n",
      "For example, when doing 'df[col].method(value, inplace=True)', try using 'df.method({col: value}, inplace=True)' or df[col] = df[col].method(value) instead, to perform the operation inplace on the original object.\n",
      "\n",
      "\n",
      "  df['Stock_Units'].fillna(df['Stock_Units'].mean(),inplace = True)\n"
     ]
    }
   ],
   "source": [
    "df['Stock_Units'].fillna(df['Stock_Units'].mean(),inplace = True)"
   ]
  },
  {
   "cell_type": "code",
   "execution_count": 12,
   "id": "e75d904f-1a30-45b2-b4f9-4fff025e1db5",
   "metadata": {},
   "outputs": [
    {
     "name": "stderr",
     "output_type": "stream",
     "text": [
      "C:\\Users\\Administrator\\AppData\\Local\\Temp\\ipykernel_2732\\790868031.py:1: FutureWarning: A value is trying to be set on a copy of a DataFrame or Series through chained assignment using an inplace method.\n",
      "The behavior will change in pandas 3.0. This inplace method will never work because the intermediate object on which we are setting values always behaves as a copy.\n",
      "\n",
      "For example, when doing 'df[col].method(value, inplace=True)', try using 'df.method({col: value}, inplace=True)' or df[col] = df[col].method(value) instead, to perform the operation inplace on the original object.\n",
      "\n",
      "\n",
      "  df['Price'].fillna(df['Price'].mean(),inplace = True)\n"
     ]
    }
   ],
   "source": [
    "df['Price'].fillna(df['Price'].mean(),inplace = True)"
   ]
  },
  {
   "cell_type": "code",
   "execution_count": 13,
   "id": "a58e6ca9-d412-4fd6-ad00-e210eb2512fc",
   "metadata": {},
   "outputs": [],
   "source": [
    "df['Brand'] = df['Brand'].fillna('Apple')"
   ]
  },
  {
   "cell_type": "code",
   "execution_count": 14,
   "id": "d995b13e-35d4-4489-9d34-df2457163d83",
   "metadata": {},
   "outputs": [
    {
     "data": {
      "text/plain": [
       "Product_ID           0\n",
       "Product_Name         0\n",
       "Brand                0\n",
       "Category             0\n",
       "Price                0\n",
       "Stock_Units          0\n",
       "Country_Of_Origin    0\n",
       "Launch_Date          0\n",
       "dtype: int64"
      ]
     },
     "execution_count": 14,
     "metadata": {},
     "output_type": "execute_result"
    }
   ],
   "source": [
    "df.isnull().sum()"
   ]
  },
  {
   "cell_type": "markdown",
   "id": "592358e5-42f3-4b52-88d8-7b489629e37c",
   "metadata": {},
   "source": [
    "#### 10. sort_values : sorting the rows in ascending or descending order."
   ]
  },
  {
   "cell_type": "code",
   "execution_count": 15,
   "id": "703bd972-7926-460e-a18a-e50c974cf126",
   "metadata": {},
   "outputs": [
    {
     "data": {
      "text/html": [
       "<div>\n",
       "<style scoped>\n",
       "    .dataframe tbody tr th:only-of-type {\n",
       "        vertical-align: middle;\n",
       "    }\n",
       "\n",
       "    .dataframe tbody tr th {\n",
       "        vertical-align: top;\n",
       "    }\n",
       "\n",
       "    .dataframe thead th {\n",
       "        text-align: right;\n",
       "    }\n",
       "</style>\n",
       "<table border=\"1\" class=\"dataframe\">\n",
       "  <thead>\n",
       "    <tr style=\"text-align: right;\">\n",
       "      <th></th>\n",
       "      <th>Product_ID</th>\n",
       "      <th>Product_Name</th>\n",
       "      <th>Brand</th>\n",
       "      <th>Category</th>\n",
       "      <th>Price</th>\n",
       "      <th>Stock_Units</th>\n",
       "      <th>Country_Of_Origin</th>\n",
       "      <th>Launch_Date</th>\n",
       "    </tr>\n",
       "  </thead>\n",
       "  <tbody>\n",
       "    <tr>\n",
       "      <th>44</th>\n",
       "      <td>1045</td>\n",
       "      <td>Laptop</td>\n",
       "      <td>Apple</td>\n",
       "      <td>Electronics</td>\n",
       "      <td>1994.63</td>\n",
       "      <td>323.0</td>\n",
       "      <td>Germany</td>\n",
       "      <td>2023-12-30</td>\n",
       "    </tr>\n",
       "    <tr>\n",
       "      <th>121</th>\n",
       "      <td>1122</td>\n",
       "      <td>Webcam</td>\n",
       "      <td>HP</td>\n",
       "      <td>Accessories</td>\n",
       "      <td>1987.56</td>\n",
       "      <td>110.0</td>\n",
       "      <td>Germany</td>\n",
       "      <td>2020-09-13</td>\n",
       "    </tr>\n",
       "    <tr>\n",
       "      <th>504</th>\n",
       "      <td>1122</td>\n",
       "      <td>Webcam</td>\n",
       "      <td>HP</td>\n",
       "      <td>Accessories</td>\n",
       "      <td>1987.56</td>\n",
       "      <td>110.0</td>\n",
       "      <td>Germany</td>\n",
       "      <td>2020-09-13</td>\n",
       "    </tr>\n",
       "    <tr>\n",
       "      <th>482</th>\n",
       "      <td>1483</td>\n",
       "      <td>Mouse</td>\n",
       "      <td>Canon</td>\n",
       "      <td>Electronics</td>\n",
       "      <td>1983.72</td>\n",
       "      <td>447.0</td>\n",
       "      <td>USA</td>\n",
       "      <td>2020-08-19</td>\n",
       "    </tr>\n",
       "    <tr>\n",
       "      <th>184</th>\n",
       "      <td>1185</td>\n",
       "      <td>Webcam</td>\n",
       "      <td>Canon</td>\n",
       "      <td>Electronics</td>\n",
       "      <td>1979.61</td>\n",
       "      <td>386.0</td>\n",
       "      <td>USA</td>\n",
       "      <td>2022-04-06</td>\n",
       "    </tr>\n",
       "    <tr>\n",
       "      <th>...</th>\n",
       "      <td>...</td>\n",
       "      <td>...</td>\n",
       "      <td>...</td>\n",
       "      <td>...</td>\n",
       "      <td>...</td>\n",
       "      <td>...</td>\n",
       "      <td>...</td>\n",
       "      <td>...</td>\n",
       "    </tr>\n",
       "    <tr>\n",
       "      <th>39</th>\n",
       "      <td>1040</td>\n",
       "      <td>Headphones</td>\n",
       "      <td>Lenovo</td>\n",
       "      <td>Peripherals</td>\n",
       "      <td>63.92</td>\n",
       "      <td>263.0</td>\n",
       "      <td>China</td>\n",
       "      <td>2020-08-19</td>\n",
       "    </tr>\n",
       "    <tr>\n",
       "      <th>382</th>\n",
       "      <td>1383</td>\n",
       "      <td>Monitor</td>\n",
       "      <td>Asus</td>\n",
       "      <td>Peripherals</td>\n",
       "      <td>61.24</td>\n",
       "      <td>327.0</td>\n",
       "      <td>China</td>\n",
       "      <td>2021-05-26</td>\n",
       "    </tr>\n",
       "    <tr>\n",
       "      <th>398</th>\n",
       "      <td>1399</td>\n",
       "      <td>Laptop</td>\n",
       "      <td>Apple</td>\n",
       "      <td>Peripherals</td>\n",
       "      <td>60.53</td>\n",
       "      <td>231.0</td>\n",
       "      <td>India</td>\n",
       "      <td>2019-07-07</td>\n",
       "    </tr>\n",
       "    <tr>\n",
       "      <th>255</th>\n",
       "      <td>1256</td>\n",
       "      <td>Webcam</td>\n",
       "      <td>Asus</td>\n",
       "      <td>Accessories</td>\n",
       "      <td>57.36</td>\n",
       "      <td>330.0</td>\n",
       "      <td>UK</td>\n",
       "      <td>2021-07-17</td>\n",
       "    </tr>\n",
       "    <tr>\n",
       "      <th>375</th>\n",
       "      <td>1376</td>\n",
       "      <td>Monitor</td>\n",
       "      <td>Dell</td>\n",
       "      <td>Electronics</td>\n",
       "      <td>52.68</td>\n",
       "      <td>437.0</td>\n",
       "      <td>Japan</td>\n",
       "      <td>2019-12-30</td>\n",
       "    </tr>\n",
       "  </tbody>\n",
       "</table>\n",
       "<p>515 rows × 8 columns</p>\n",
       "</div>"
      ],
      "text/plain": [
       "     Product_ID Product_Name   Brand     Category    Price  Stock_Units  \\\n",
       "44         1045       Laptop   Apple  Electronics  1994.63        323.0   \n",
       "121        1122       Webcam      HP  Accessories  1987.56        110.0   \n",
       "504        1122       Webcam      HP  Accessories  1987.56        110.0   \n",
       "482        1483        Mouse   Canon  Electronics  1983.72        447.0   \n",
       "184        1185       Webcam   Canon  Electronics  1979.61        386.0   \n",
       "..          ...          ...     ...          ...      ...          ...   \n",
       "39         1040   Headphones  Lenovo  Peripherals    63.92        263.0   \n",
       "382        1383      Monitor    Asus  Peripherals    61.24        327.0   \n",
       "398        1399       Laptop   Apple  Peripherals    60.53        231.0   \n",
       "255        1256       Webcam    Asus  Accessories    57.36        330.0   \n",
       "375        1376      Monitor    Dell  Electronics    52.68        437.0   \n",
       "\n",
       "    Country_Of_Origin Launch_Date  \n",
       "44            Germany  2023-12-30  \n",
       "121           Germany  2020-09-13  \n",
       "504           Germany  2020-09-13  \n",
       "482               USA  2020-08-19  \n",
       "184               USA  2022-04-06  \n",
       "..                ...         ...  \n",
       "39              China  2020-08-19  \n",
       "382             China  2021-05-26  \n",
       "398             India  2019-07-07  \n",
       "255                UK  2021-07-17  \n",
       "375             Japan  2019-12-30  \n",
       "\n",
       "[515 rows x 8 columns]"
      ]
     },
     "execution_count": 15,
     "metadata": {},
     "output_type": "execute_result"
    }
   ],
   "source": [
    "df.sort_values(by = 'Price', ascending = False)"
   ]
  },
  {
   "cell_type": "markdown",
   "id": "4de63165-7297-4bf3-98c4-fba0750852f3",
   "metadata": {},
   "source": [
    "#### 11. loc() : Access by Label."
   ]
  },
  {
   "cell_type": "code",
   "execution_count": 16,
   "id": "d5857b81-733b-4070-a9c4-7fceea6c1cda",
   "metadata": {},
   "outputs": [
    {
     "data": {
      "text/html": [
       "<div>\n",
       "<style scoped>\n",
       "    .dataframe tbody tr th:only-of-type {\n",
       "        vertical-align: middle;\n",
       "    }\n",
       "\n",
       "    .dataframe tbody tr th {\n",
       "        vertical-align: top;\n",
       "    }\n",
       "\n",
       "    .dataframe thead th {\n",
       "        text-align: right;\n",
       "    }\n",
       "</style>\n",
       "<table border=\"1\" class=\"dataframe\">\n",
       "  <thead>\n",
       "    <tr style=\"text-align: right;\">\n",
       "      <th></th>\n",
       "      <th>Product_Name</th>\n",
       "      <th>Brand</th>\n",
       "      <th>Price</th>\n",
       "    </tr>\n",
       "  </thead>\n",
       "  <tbody>\n",
       "    <tr>\n",
       "      <th>1</th>\n",
       "      <td>Laptop</td>\n",
       "      <td>HP</td>\n",
       "      <td>1644.89</td>\n",
       "    </tr>\n",
       "    <tr>\n",
       "      <th>2</th>\n",
       "      <td>Mouse</td>\n",
       "      <td>Logitech</td>\n",
       "      <td>642.71</td>\n",
       "    </tr>\n",
       "    <tr>\n",
       "      <th>3</th>\n",
       "      <td>Keyboard</td>\n",
       "      <td>Samsung</td>\n",
       "      <td>888.96</td>\n",
       "    </tr>\n",
       "  </tbody>\n",
       "</table>\n",
       "</div>"
      ],
      "text/plain": [
       "  Product_Name     Brand    Price\n",
       "1       Laptop        HP  1644.89\n",
       "2        Mouse  Logitech   642.71\n",
       "3     Keyboard   Samsung   888.96"
      ]
     },
     "execution_count": 16,
     "metadata": {},
     "output_type": "execute_result"
    }
   ],
   "source": [
    "df.loc[1:3, ['Product_Name','Brand','Price']]"
   ]
  },
  {
   "cell_type": "markdown",
   "id": "2c73600e-a5fa-408f-a205-f4af6d3ec34b",
   "metadata": {},
   "source": [
    "#### 12. iloc() : Access by position."
   ]
  },
  {
   "cell_type": "code",
   "execution_count": 17,
   "id": "375367e7-38cf-43e9-9911-e5194b881a41",
   "metadata": {},
   "outputs": [
    {
     "data": {
      "text/plain": [
       "Product_ID                  1003\n",
       "Product_Name               Mouse\n",
       "Brand                   Logitech\n",
       "Category             Peripherals\n",
       "Price                     642.71\n",
       "Stock_Units                325.0\n",
       "Country_Of_Origin          India\n",
       "Launch_Date           2019-02-22\n",
       "Name: 2, dtype: object"
      ]
     },
     "execution_count": 17,
     "metadata": {},
     "output_type": "execute_result"
    }
   ],
   "source": [
    "df.iloc[2]"
   ]
  },
  {
   "cell_type": "markdown",
   "id": "539704fd-32b1-48c0-8ce1-6b2335e19497",
   "metadata": {},
   "source": [
    "#### 13. groupby() : Aggregate data by category."
   ]
  },
  {
   "cell_type": "code",
   "execution_count": 18,
   "id": "636d76e4-557f-4c42-b120-2c3e19a7b7fc",
   "metadata": {},
   "outputs": [
    {
     "data": {
      "text/plain": [
       "Brand\n",
       "Apple       1041.876172\n",
       "Asus         985.467507\n",
       "Canon       1016.605836\n",
       "Dell        1107.049293\n",
       "HP          1149.921991\n",
       "Lenovo       961.197916\n",
       "Logitech     996.314482\n",
       "Samsung      961.732813\n",
       "Name: Price, dtype: float64"
      ]
     },
     "execution_count": 18,
     "metadata": {},
     "output_type": "execute_result"
    }
   ],
   "source": [
    "df.groupby('Brand')['Price'].mean()"
   ]
  },
  {
   "cell_type": "markdown",
   "id": "2ff9b74a-5aa1-45a2-894d-97132e502727",
   "metadata": {},
   "source": [
    "#### 14. unique() : Returns the unique values in a column."
   ]
  },
  {
   "cell_type": "code",
   "execution_count": 19,
   "id": "4922e59a-7da8-4e86-87fa-a8a84d00db00",
   "metadata": {},
   "outputs": [
    {
     "data": {
      "text/plain": [
       "array(['Router', 'Laptop', 'Mouse', 'Keyboard', 'Tablet', 'Smartphone',\n",
       "       'Headphones', 'Monitor', 'Webcam', 'Printer'], dtype=object)"
      ]
     },
     "execution_count": 19,
     "metadata": {},
     "output_type": "execute_result"
    }
   ],
   "source": [
    "df['Product_Name'].unique()"
   ]
  },
  {
   "cell_type": "markdown",
   "id": "33d2a060-06bf-49b1-b91e-58d0b6db2499",
   "metadata": {},
   "source": [
    "#### 15. nunique() : Returns the total number of unique values."
   ]
  },
  {
   "cell_type": "code",
   "execution_count": 20,
   "id": "cafe81d6-b258-41fd-94c6-9c8895f69b3b",
   "metadata": {},
   "outputs": [
    {
     "data": {
      "text/plain": [
       "Product_ID           500\n",
       "Product_Name          10\n",
       "Brand                  8\n",
       "Category               3\n",
       "Price                481\n",
       "Stock_Units          312\n",
       "Country_Of_Origin      6\n",
       "Launch_Date          440\n",
       "dtype: int64"
      ]
     },
     "execution_count": 20,
     "metadata": {},
     "output_type": "execute_result"
    }
   ],
   "source": [
    "df.nunique()"
   ]
  },
  {
   "cell_type": "markdown",
   "id": "a2850120-7fe6-4039-a284-d9abe99d9adf",
   "metadata": {},
   "source": [
    "#### 16. rename() :  rename the specified column or row"
   ]
  },
  {
   "cell_type": "code",
   "execution_count": 21,
   "id": "1e0be5c8-c66d-4950-b84c-49abfb75e494",
   "metadata": {},
   "outputs": [],
   "source": [
    "df.rename(columns={'Country_Of_Origin':'Country'}, inplace = True)"
   ]
  },
  {
   "cell_type": "code",
   "execution_count": 22,
   "id": "d90ded78-14c1-46c1-8bdc-d8c0c6d36538",
   "metadata": {},
   "outputs": [
    {
     "data": {
      "text/html": [
       "<div>\n",
       "<style scoped>\n",
       "    .dataframe tbody tr th:only-of-type {\n",
       "        vertical-align: middle;\n",
       "    }\n",
       "\n",
       "    .dataframe tbody tr th {\n",
       "        vertical-align: top;\n",
       "    }\n",
       "\n",
       "    .dataframe thead th {\n",
       "        text-align: right;\n",
       "    }\n",
       "</style>\n",
       "<table border=\"1\" class=\"dataframe\">\n",
       "  <thead>\n",
       "    <tr style=\"text-align: right;\">\n",
       "      <th></th>\n",
       "      <th>Product_ID</th>\n",
       "      <th>Product_Name</th>\n",
       "      <th>Brand</th>\n",
       "      <th>Category</th>\n",
       "      <th>Price</th>\n",
       "      <th>Stock_Units</th>\n",
       "      <th>Country</th>\n",
       "      <th>Launch_Date</th>\n",
       "    </tr>\n",
       "  </thead>\n",
       "  <tbody>\n",
       "    <tr>\n",
       "      <th>0</th>\n",
       "      <td>1001</td>\n",
       "      <td>Router</td>\n",
       "      <td>Logitech</td>\n",
       "      <td>Accessories</td>\n",
       "      <td>574.15</td>\n",
       "      <td>188.0</td>\n",
       "      <td>Germany</td>\n",
       "      <td>2020-06-22</td>\n",
       "    </tr>\n",
       "    <tr>\n",
       "      <th>1</th>\n",
       "      <td>1002</td>\n",
       "      <td>Laptop</td>\n",
       "      <td>HP</td>\n",
       "      <td>Accessories</td>\n",
       "      <td>1644.89</td>\n",
       "      <td>203.0</td>\n",
       "      <td>UK</td>\n",
       "      <td>2023-10-15</td>\n",
       "    </tr>\n",
       "    <tr>\n",
       "      <th>2</th>\n",
       "      <td>1003</td>\n",
       "      <td>Mouse</td>\n",
       "      <td>Logitech</td>\n",
       "      <td>Peripherals</td>\n",
       "      <td>642.71</td>\n",
       "      <td>325.0</td>\n",
       "      <td>India</td>\n",
       "      <td>2019-02-22</td>\n",
       "    </tr>\n",
       "    <tr>\n",
       "      <th>3</th>\n",
       "      <td>1004</td>\n",
       "      <td>Keyboard</td>\n",
       "      <td>Samsung</td>\n",
       "      <td>Peripherals</td>\n",
       "      <td>888.96</td>\n",
       "      <td>439.0</td>\n",
       "      <td>USA</td>\n",
       "      <td>2020-12-22</td>\n",
       "    </tr>\n",
       "    <tr>\n",
       "      <th>4</th>\n",
       "      <td>1005</td>\n",
       "      <td>Keyboard</td>\n",
       "      <td>Canon</td>\n",
       "      <td>Electronics</td>\n",
       "      <td>1500.41</td>\n",
       "      <td>51.0</td>\n",
       "      <td>Japan</td>\n",
       "      <td>2019-11-27</td>\n",
       "    </tr>\n",
       "  </tbody>\n",
       "</table>\n",
       "</div>"
      ],
      "text/plain": [
       "   Product_ID Product_Name     Brand     Category    Price  Stock_Units  \\\n",
       "0        1001       Router  Logitech  Accessories   574.15        188.0   \n",
       "1        1002       Laptop        HP  Accessories  1644.89        203.0   \n",
       "2        1003        Mouse  Logitech  Peripherals   642.71        325.0   \n",
       "3        1004     Keyboard   Samsung  Peripherals   888.96        439.0   \n",
       "4        1005     Keyboard     Canon  Electronics  1500.41         51.0   \n",
       "\n",
       "   Country Launch_Date  \n",
       "0  Germany  2020-06-22  \n",
       "1       UK  2023-10-15  \n",
       "2    India  2019-02-22  \n",
       "3      USA  2020-12-22  \n",
       "4    Japan  2019-11-27  "
      ]
     },
     "execution_count": 22,
     "metadata": {},
     "output_type": "execute_result"
    }
   ],
   "source": [
    "df.head()"
   ]
  },
  {
   "cell_type": "markdown",
   "id": "d4e66da0-182e-4027-a0a6-f60142cc0e36",
   "metadata": {},
   "source": [
    "#### 17. index : returns the row index."
   ]
  },
  {
   "cell_type": "code",
   "execution_count": 23,
   "id": "d8c5da57-adbb-4cbd-90ec-46c4dc11244f",
   "metadata": {},
   "outputs": [
    {
     "data": {
      "text/plain": [
       "RangeIndex(start=0, stop=515, step=1)"
      ]
     },
     "execution_count": 23,
     "metadata": {},
     "output_type": "execute_result"
    }
   ],
   "source": [
    "df.index"
   ]
  },
  {
   "cell_type": "markdown",
   "id": "629e40a4-2503-4690-a371-b9646c077162",
   "metadata": {},
   "source": [
    "#### 18. value_count : counts unique values in a columns."
   ]
  },
  {
   "cell_type": "code",
   "execution_count": 24,
   "id": "65775a5b-6411-43dd-8078-15c7845b6aac",
   "metadata": {},
   "outputs": [
    {
     "data": {
      "text/plain": [
       "<bound method IndexOpsMixin.value_counts of 0      Accessories\n",
       "1      Accessories\n",
       "2      Peripherals\n",
       "3      Peripherals\n",
       "4      Electronics\n",
       "          ...     \n",
       "510    Peripherals\n",
       "511    Peripherals\n",
       "512    Electronics\n",
       "513    Accessories\n",
       "514    Accessories\n",
       "Name: Category, Length: 515, dtype: object>"
      ]
     },
     "execution_count": 24,
     "metadata": {},
     "output_type": "execute_result"
    }
   ],
   "source": [
    "df['Category'].value_counts"
   ]
  },
  {
   "cell_type": "markdown",
   "id": "5c1df37a-2c3f-450d-845b-f644979681a2",
   "metadata": {},
   "source": [
    "#### 19. rank() : Ranks values in a column.\n",
    "#### Assigning numerical positions based on rank."
   ]
  },
  {
   "cell_type": "code",
   "execution_count": 25,
   "id": "d02675b9-787d-43e0-a7a4-7d46cef07afe",
   "metadata": {},
   "outputs": [
    {
     "data": {
      "text/plain": [
       "0      382.0\n",
       "1      100.0\n",
       "2      361.0\n",
       "3      295.0\n",
       "4      146.0\n",
       "       ...  \n",
       "510    439.5\n",
       "511    309.5\n",
       "512     35.5\n",
       "513    314.5\n",
       "514    207.5\n",
       "Name: Price, Length: 515, dtype: float64"
      ]
     },
     "execution_count": 25,
     "metadata": {},
     "output_type": "execute_result"
    }
   ],
   "source": [
    "df['Price'].rank(ascending = False)"
   ]
  },
  {
   "cell_type": "markdown",
   "id": "0c728fee-c815-4ae8-9f7a-a77d7323a8f8",
   "metadata": {},
   "source": [
    "#### 20. query() : Use sql like queries to filter data."
   ]
  },
  {
   "cell_type": "code",
   "execution_count": 26,
   "id": "dae9e2df-bcd7-40c1-a07d-325889529daa",
   "metadata": {
    "scrolled": true
   },
   "outputs": [
    {
     "data": {
      "text/html": [
       "<div>\n",
       "<style scoped>\n",
       "    .dataframe tbody tr th:only-of-type {\n",
       "        vertical-align: middle;\n",
       "    }\n",
       "\n",
       "    .dataframe tbody tr th {\n",
       "        vertical-align: top;\n",
       "    }\n",
       "\n",
       "    .dataframe thead th {\n",
       "        text-align: right;\n",
       "    }\n",
       "</style>\n",
       "<table border=\"1\" class=\"dataframe\">\n",
       "  <thead>\n",
       "    <tr style=\"text-align: right;\">\n",
       "      <th></th>\n",
       "      <th>Product_ID</th>\n",
       "      <th>Product_Name</th>\n",
       "      <th>Brand</th>\n",
       "      <th>Category</th>\n",
       "      <th>Price</th>\n",
       "      <th>Stock_Units</th>\n",
       "      <th>Country</th>\n",
       "      <th>Launch_Date</th>\n",
       "    </tr>\n",
       "  </thead>\n",
       "  <tbody>\n",
       "    <tr>\n",
       "      <th>2</th>\n",
       "      <td>1003</td>\n",
       "      <td>Mouse</td>\n",
       "      <td>Logitech</td>\n",
       "      <td>Peripherals</td>\n",
       "      <td>642.71</td>\n",
       "      <td>325.000000</td>\n",
       "      <td>India</td>\n",
       "      <td>2019-02-22</td>\n",
       "    </tr>\n",
       "    <tr>\n",
       "      <th>5</th>\n",
       "      <td>1006</td>\n",
       "      <td>Router</td>\n",
       "      <td>Apple</td>\n",
       "      <td>Electronics</td>\n",
       "      <td>1575.61</td>\n",
       "      <td>256.000000</td>\n",
       "      <td>India</td>\n",
       "      <td>2021-06-13</td>\n",
       "    </tr>\n",
       "    <tr>\n",
       "      <th>12</th>\n",
       "      <td>1013</td>\n",
       "      <td>Smartphone</td>\n",
       "      <td>Apple</td>\n",
       "      <td>Electronics</td>\n",
       "      <td>901.58</td>\n",
       "      <td>340.000000</td>\n",
       "      <td>India</td>\n",
       "      <td>2018-10-27</td>\n",
       "    </tr>\n",
       "    <tr>\n",
       "      <th>15</th>\n",
       "      <td>1016</td>\n",
       "      <td>Smartphone</td>\n",
       "      <td>Logitech</td>\n",
       "      <td>Accessories</td>\n",
       "      <td>1612.44</td>\n",
       "      <td>309.000000</td>\n",
       "      <td>India</td>\n",
       "      <td>2021-09-30</td>\n",
       "    </tr>\n",
       "    <tr>\n",
       "      <th>18</th>\n",
       "      <td>1019</td>\n",
       "      <td>Headphones</td>\n",
       "      <td>Samsung</td>\n",
       "      <td>Accessories</td>\n",
       "      <td>1789.77</td>\n",
       "      <td>256.018219</td>\n",
       "      <td>India</td>\n",
       "      <td>2022-09-06</td>\n",
       "    </tr>\n",
       "  </tbody>\n",
       "</table>\n",
       "</div>"
      ],
      "text/plain": [
       "    Product_ID Product_Name     Brand     Category    Price  Stock_Units  \\\n",
       "2         1003        Mouse  Logitech  Peripherals   642.71   325.000000   \n",
       "5         1006       Router     Apple  Electronics  1575.61   256.000000   \n",
       "12        1013   Smartphone     Apple  Electronics   901.58   340.000000   \n",
       "15        1016   Smartphone  Logitech  Accessories  1612.44   309.000000   \n",
       "18        1019   Headphones   Samsung  Accessories  1789.77   256.018219   \n",
       "\n",
       "   Country Launch_Date  \n",
       "2    India  2019-02-22  \n",
       "5    India  2021-06-13  \n",
       "12   India  2018-10-27  \n",
       "15   India  2021-09-30  \n",
       "18   India  2022-09-06  "
      ]
     },
     "execution_count": 26,
     "metadata": {},
     "output_type": "execute_result"
    }
   ],
   "source": [
    "df.query(\"Country == 'India' and Price > 500\").head()"
   ]
  },
  {
   "cell_type": "markdown",
   "id": "25e07815-2442-4429-963e-2e95e23724af",
   "metadata": {},
   "source": [
    "#### 21. astype() : converts the datatype of column."
   ]
  },
  {
   "cell_type": "code",
   "execution_count": 27,
   "id": "3480101c-3d0a-4d00-b2d0-99e429fda0ec",
   "metadata": {},
   "outputs": [
    {
     "data": {
      "text/plain": [
       "0     574.15\n",
       "1    1644.89\n",
       "2     642.71\n",
       "3     888.96\n",
       "4    1500.41\n",
       "Name: Price, dtype: float64"
      ]
     },
     "execution_count": 27,
     "metadata": {},
     "output_type": "execute_result"
    }
   ],
   "source": [
    "df[\"Price\"].astype(float).head()"
   ]
  },
  {
   "cell_type": "code",
   "execution_count": 28,
   "id": "97fa9c5b-57a3-4a04-b688-249a89ca3e4c",
   "metadata": {},
   "outputs": [
    {
     "data": {
      "text/plain": [
       "515"
      ]
     },
     "execution_count": 28,
     "metadata": {},
     "output_type": "execute_result"
    }
   ],
   "source": [
    "len(df)"
   ]
  },
  {
   "cell_type": "markdown",
   "id": "2c6795d9-f6b4-48ff-a048-64fc4e776d3a",
   "metadata": {},
   "source": [
    "#### 22. filtering() :pandas allows filtering data based on filtering conditions.\n",
    "####     Returns the data based on filtering conditions."
   ]
  },
  {
   "cell_type": "code",
   "execution_count": 29,
   "id": "fd98dcde-0e80-4a06-bb84-64056b4cd10b",
   "metadata": {},
   "outputs": [
    {
     "data": {
      "text/html": [
       "<div>\n",
       "<style scoped>\n",
       "    .dataframe tbody tr th:only-of-type {\n",
       "        vertical-align: middle;\n",
       "    }\n",
       "\n",
       "    .dataframe tbody tr th {\n",
       "        vertical-align: top;\n",
       "    }\n",
       "\n",
       "    .dataframe thead th {\n",
       "        text-align: right;\n",
       "    }\n",
       "</style>\n",
       "<table border=\"1\" class=\"dataframe\">\n",
       "  <thead>\n",
       "    <tr style=\"text-align: right;\">\n",
       "      <th></th>\n",
       "      <th>Product_ID</th>\n",
       "      <th>Product_Name</th>\n",
       "      <th>Brand</th>\n",
       "      <th>Category</th>\n",
       "      <th>Price</th>\n",
       "      <th>Stock_Units</th>\n",
       "      <th>Country</th>\n",
       "      <th>Launch_Date</th>\n",
       "    </tr>\n",
       "  </thead>\n",
       "  <tbody>\n",
       "    <tr>\n",
       "      <th>0</th>\n",
       "      <td>1001</td>\n",
       "      <td>Router</td>\n",
       "      <td>Logitech</td>\n",
       "      <td>Accessories</td>\n",
       "      <td>574.15</td>\n",
       "      <td>188.0</td>\n",
       "      <td>Germany</td>\n",
       "      <td>2020-06-22</td>\n",
       "    </tr>\n",
       "    <tr>\n",
       "      <th>1</th>\n",
       "      <td>1002</td>\n",
       "      <td>Laptop</td>\n",
       "      <td>HP</td>\n",
       "      <td>Accessories</td>\n",
       "      <td>1644.89</td>\n",
       "      <td>203.0</td>\n",
       "      <td>UK</td>\n",
       "      <td>2023-10-15</td>\n",
       "    </tr>\n",
       "    <tr>\n",
       "      <th>2</th>\n",
       "      <td>1003</td>\n",
       "      <td>Mouse</td>\n",
       "      <td>Logitech</td>\n",
       "      <td>Peripherals</td>\n",
       "      <td>642.71</td>\n",
       "      <td>325.0</td>\n",
       "      <td>India</td>\n",
       "      <td>2019-02-22</td>\n",
       "    </tr>\n",
       "    <tr>\n",
       "      <th>3</th>\n",
       "      <td>1004</td>\n",
       "      <td>Keyboard</td>\n",
       "      <td>Samsung</td>\n",
       "      <td>Peripherals</td>\n",
       "      <td>888.96</td>\n",
       "      <td>439.0</td>\n",
       "      <td>USA</td>\n",
       "      <td>2020-12-22</td>\n",
       "    </tr>\n",
       "    <tr>\n",
       "      <th>4</th>\n",
       "      <td>1005</td>\n",
       "      <td>Keyboard</td>\n",
       "      <td>Canon</td>\n",
       "      <td>Electronics</td>\n",
       "      <td>1500.41</td>\n",
       "      <td>51.0</td>\n",
       "      <td>Japan</td>\n",
       "      <td>2019-11-27</td>\n",
       "    </tr>\n",
       "    <tr>\n",
       "      <th>...</th>\n",
       "      <td>...</td>\n",
       "      <td>...</td>\n",
       "      <td>...</td>\n",
       "      <td>...</td>\n",
       "      <td>...</td>\n",
       "      <td>...</td>\n",
       "      <td>...</td>\n",
       "      <td>...</td>\n",
       "    </tr>\n",
       "    <tr>\n",
       "      <th>508</th>\n",
       "      <td>1424</td>\n",
       "      <td>Mouse</td>\n",
       "      <td>Dell</td>\n",
       "      <td>Peripherals</td>\n",
       "      <td>1824.90</td>\n",
       "      <td>108.0</td>\n",
       "      <td>Germany</td>\n",
       "      <td>2020-05-20</td>\n",
       "    </tr>\n",
       "    <tr>\n",
       "      <th>511</th>\n",
       "      <td>1069</td>\n",
       "      <td>Printer</td>\n",
       "      <td>Lenovo</td>\n",
       "      <td>Peripherals</td>\n",
       "      <td>823.61</td>\n",
       "      <td>234.0</td>\n",
       "      <td>China</td>\n",
       "      <td>2023-04-10</td>\n",
       "    </tr>\n",
       "    <tr>\n",
       "      <th>512</th>\n",
       "      <td>1072</td>\n",
       "      <td>Smartphone</td>\n",
       "      <td>Asus</td>\n",
       "      <td>Electronics</td>\n",
       "      <td>1854.61</td>\n",
       "      <td>363.0</td>\n",
       "      <td>India</td>\n",
       "      <td>2023-05-06</td>\n",
       "    </tr>\n",
       "    <tr>\n",
       "      <th>513</th>\n",
       "      <td>1351</td>\n",
       "      <td>Keyboard</td>\n",
       "      <td>Apple</td>\n",
       "      <td>Accessories</td>\n",
       "      <td>801.33</td>\n",
       "      <td>340.0</td>\n",
       "      <td>India</td>\n",
       "      <td>2021-09-28</td>\n",
       "    </tr>\n",
       "    <tr>\n",
       "      <th>514</th>\n",
       "      <td>1123</td>\n",
       "      <td>Headphones</td>\n",
       "      <td>Lenovo</td>\n",
       "      <td>Accessories</td>\n",
       "      <td>1162.56</td>\n",
       "      <td>283.0</td>\n",
       "      <td>Japan</td>\n",
       "      <td>2023-06-26</td>\n",
       "    </tr>\n",
       "  </tbody>\n",
       "</table>\n",
       "<p>401 rows × 8 columns</p>\n",
       "</div>"
      ],
      "text/plain": [
       "     Product_ID Product_Name     Brand     Category    Price  Stock_Units  \\\n",
       "0          1001       Router  Logitech  Accessories   574.15        188.0   \n",
       "1          1002       Laptop        HP  Accessories  1644.89        203.0   \n",
       "2          1003        Mouse  Logitech  Peripherals   642.71        325.0   \n",
       "3          1004     Keyboard   Samsung  Peripherals   888.96        439.0   \n",
       "4          1005     Keyboard     Canon  Electronics  1500.41         51.0   \n",
       "..          ...          ...       ...          ...      ...          ...   \n",
       "508        1424        Mouse      Dell  Peripherals  1824.90        108.0   \n",
       "511        1069      Printer    Lenovo  Peripherals   823.61        234.0   \n",
       "512        1072   Smartphone      Asus  Electronics  1854.61        363.0   \n",
       "513        1351     Keyboard     Apple  Accessories   801.33        340.0   \n",
       "514        1123   Headphones    Lenovo  Accessories  1162.56        283.0   \n",
       "\n",
       "     Country Launch_Date  \n",
       "0    Germany  2020-06-22  \n",
       "1         UK  2023-10-15  \n",
       "2      India  2019-02-22  \n",
       "3        USA  2020-12-22  \n",
       "4      Japan  2019-11-27  \n",
       "..       ...         ...  \n",
       "508  Germany  2020-05-20  \n",
       "511    China  2023-04-10  \n",
       "512    India  2023-05-06  \n",
       "513    India  2021-09-28  \n",
       "514    Japan  2023-06-26  \n",
       "\n",
       "[401 rows x 8 columns]"
      ]
     },
     "execution_count": 29,
     "metadata": {},
     "output_type": "execute_result"
    }
   ],
   "source": [
    "df[df['Price'] >= 500]"
   ]
  },
  {
   "cell_type": "markdown",
   "id": "c43fbbde-04cc-4885-9109-d2fd9cd23ce2",
   "metadata": {},
   "source": [
    "#### 23. pivot_table() : summarize data by using aggregate functions.(mean,median,mode,etc)"
   ]
  },
  {
   "cell_type": "code",
   "execution_count": 30,
   "id": "ab2b51c0-5fa9-4846-a452-215af9629f83",
   "metadata": {},
   "outputs": [
    {
     "data": {
      "text/html": [
       "<div>\n",
       "<style scoped>\n",
       "    .dataframe tbody tr th:only-of-type {\n",
       "        vertical-align: middle;\n",
       "    }\n",
       "\n",
       "    .dataframe tbody tr th {\n",
       "        vertical-align: top;\n",
       "    }\n",
       "\n",
       "    .dataframe thead th {\n",
       "        text-align: right;\n",
       "    }\n",
       "</style>\n",
       "<table border=\"1\" class=\"dataframe\">\n",
       "  <thead>\n",
       "    <tr style=\"text-align: right;\">\n",
       "      <th>Country</th>\n",
       "      <th>China</th>\n",
       "      <th>Germany</th>\n",
       "      <th>India</th>\n",
       "      <th>Japan</th>\n",
       "      <th>UK</th>\n",
       "      <th>USA</th>\n",
       "    </tr>\n",
       "    <tr>\n",
       "      <th>Brand</th>\n",
       "      <th></th>\n",
       "      <th></th>\n",
       "      <th></th>\n",
       "      <th></th>\n",
       "      <th></th>\n",
       "      <th></th>\n",
       "    </tr>\n",
       "  </thead>\n",
       "  <tbody>\n",
       "    <tr>\n",
       "      <th>Apple</th>\n",
       "      <td>916.389286</td>\n",
       "      <td>1130.992143</td>\n",
       "      <td>1094.490880</td>\n",
       "      <td>1049.843030</td>\n",
       "      <td>1104.503000</td>\n",
       "      <td>929.421667</td>\n",
       "    </tr>\n",
       "    <tr>\n",
       "      <th>Asus</th>\n",
       "      <td>1044.851429</td>\n",
       "      <td>807.386320</td>\n",
       "      <td>1099.368000</td>\n",
       "      <td>962.956540</td>\n",
       "      <td>883.369811</td>\n",
       "      <td>1169.590909</td>\n",
       "    </tr>\n",
       "    <tr>\n",
       "      <th>Canon</th>\n",
       "      <td>980.450909</td>\n",
       "      <td>1108.328333</td>\n",
       "      <td>909.310000</td>\n",
       "      <td>874.098044</td>\n",
       "      <td>1112.795714</td>\n",
       "      <td>1164.314286</td>\n",
       "    </tr>\n",
       "    <tr>\n",
       "      <th>Dell</th>\n",
       "      <td>688.563333</td>\n",
       "      <td>1203.360000</td>\n",
       "      <td>1045.471250</td>\n",
       "      <td>988.058371</td>\n",
       "      <td>1304.948333</td>\n",
       "      <td>962.913463</td>\n",
       "    </tr>\n",
       "    <tr>\n",
       "      <th>HP</th>\n",
       "      <td>1254.620000</td>\n",
       "      <td>1018.747135</td>\n",
       "      <td>906.389232</td>\n",
       "      <td>1089.928750</td>\n",
       "      <td>1747.873333</td>\n",
       "      <td>1266.129832</td>\n",
       "    </tr>\n",
       "    <tr>\n",
       "      <th>Lenovo</th>\n",
       "      <td>674.731538</td>\n",
       "      <td>1004.976881</td>\n",
       "      <td>1032.900943</td>\n",
       "      <td>955.818333</td>\n",
       "      <td>1233.682727</td>\n",
       "      <td>898.141697</td>\n",
       "    </tr>\n",
       "    <tr>\n",
       "      <th>Logitech</th>\n",
       "      <td>1096.787500</td>\n",
       "      <td>759.175000</td>\n",
       "      <td>1024.505556</td>\n",
       "      <td>1219.898697</td>\n",
       "      <td>897.717374</td>\n",
       "      <td>913.341429</td>\n",
       "    </tr>\n",
       "    <tr>\n",
       "      <th>Samsung</th>\n",
       "      <td>1120.919167</td>\n",
       "      <td>846.737273</td>\n",
       "      <td>895.096154</td>\n",
       "      <td>933.965000</td>\n",
       "      <td>955.268462</td>\n",
       "      <td>1078.274000</td>\n",
       "    </tr>\n",
       "  </tbody>\n",
       "</table>\n",
       "</div>"
      ],
      "text/plain": [
       "Country         China      Germany        India        Japan           UK  \\\n",
       "Brand                                                                       \n",
       "Apple      916.389286  1130.992143  1094.490880  1049.843030  1104.503000   \n",
       "Asus      1044.851429   807.386320  1099.368000   962.956540   883.369811   \n",
       "Canon      980.450909  1108.328333   909.310000   874.098044  1112.795714   \n",
       "Dell       688.563333  1203.360000  1045.471250   988.058371  1304.948333   \n",
       "HP        1254.620000  1018.747135   906.389232  1089.928750  1747.873333   \n",
       "Lenovo     674.731538  1004.976881  1032.900943   955.818333  1233.682727   \n",
       "Logitech  1096.787500   759.175000  1024.505556  1219.898697   897.717374   \n",
       "Samsung   1120.919167   846.737273   895.096154   933.965000   955.268462   \n",
       "\n",
       "Country           USA  \n",
       "Brand                  \n",
       "Apple      929.421667  \n",
       "Asus      1169.590909  \n",
       "Canon     1164.314286  \n",
       "Dell       962.913463  \n",
       "HP        1266.129832  \n",
       "Lenovo     898.141697  \n",
       "Logitech   913.341429  \n",
       "Samsung   1078.274000  "
      ]
     },
     "execution_count": 30,
     "metadata": {},
     "output_type": "execute_result"
    }
   ],
   "source": [
    "df.pivot_table(values = \"Price\", index = \"Brand\", columns = \"Country\", aggfunc = 'mean')"
   ]
  },
  {
   "cell_type": "code",
   "execution_count": 48,
   "id": "2e9bb09c-e413-4ec0-a060-875ed09a78be",
   "metadata": {},
   "outputs": [
    {
     "name": "stdout",
     "output_type": "stream",
     "text": [
      "['Price', 'Stock_Units']\n"
     ]
    }
   ],
   "source": [
    "numerical_columns = ['Price', 'Stock_Units']\n",
    "print(numerical_columns)"
   ]
  },
  {
   "cell_type": "code",
   "execution_count": 50,
   "id": "f8cf21af-ad2a-4a7a-9a76-78455ac6f55b",
   "metadata": {},
   "outputs": [
    {
     "name": "stdout",
     "output_type": "stream",
     "text": [
      "                Price  Stock_Units\n",
      "Price        1.000000    -0.005761\n",
      "Stock_Units -0.005761     1.000000\n"
     ]
    }
   ],
   "source": [
    "correlation = df[numerical_columns].corr()\n",
    "print(correlation)"
   ]
  },
  {
   "cell_type": "markdown",
   "id": "d8f6031b-3f7c-4b06-9d89-c2a98c929973",
   "metadata": {},
   "source": [
    "#### no correlation in price and stock units."
   ]
  },
  {
   "cell_type": "code",
   "execution_count": null,
   "id": "bcc3c716-6600-45a9-a259-db6a2d26b137",
   "metadata": {},
   "outputs": [],
   "source": []
  },
  {
   "cell_type": "code",
   "execution_count": null,
   "id": "cb33be6a-f90d-49ac-9783-195e5fc6377d",
   "metadata": {},
   "outputs": [],
   "source": []
  }
 ],
 "metadata": {
  "kernelspec": {
   "display_name": "Python 3 (ipykernel)",
   "language": "python",
   "name": "python3"
  },
  "language_info": {
   "codemirror_mode": {
    "name": "ipython",
    "version": 3
   },
   "file_extension": ".py",
   "mimetype": "text/x-python",
   "name": "python",
   "nbconvert_exporter": "python",
   "pygments_lexer": "ipython3",
   "version": "3.12.6"
  }
 },
 "nbformat": 4,
 "nbformat_minor": 5
}
